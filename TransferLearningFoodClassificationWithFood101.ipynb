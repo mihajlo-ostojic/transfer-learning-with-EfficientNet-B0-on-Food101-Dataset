{
  "nbformat": 4,
  "nbformat_minor": 0,
  "metadata": {
    "colab": {
      "provenance": []
    },
    "kernelspec": {
      "name": "python3",
      "display_name": "Python 3"
    },
    "language_info": {
      "name": "python"
    },
    "accelerator": "GPU",
    "gpuClass": "standard",
    "widgets": {
      "application/vnd.jupyter.widget-state+json": {
        "a74fb88592bc428481a00969cabb19b7": {
          "model_module": "@jupyter-widgets/controls",
          "model_name": "HBoxModel",
          "model_module_version": "1.5.0",
          "state": {
            "_dom_classes": [],
            "_model_module": "@jupyter-widgets/controls",
            "_model_module_version": "1.5.0",
            "_model_name": "HBoxModel",
            "_view_count": null,
            "_view_module": "@jupyter-widgets/controls",
            "_view_module_version": "1.5.0",
            "_view_name": "HBoxView",
            "box_style": "",
            "children": [
              "IPY_MODEL_224b9f8f9a024bbb8a9cc44f1f44a4a7",
              "IPY_MODEL_558cf96e62af47cd8363792109f780eb",
              "IPY_MODEL_9613af1d53b14eee9a661cab803dac5f"
            ],
            "layout": "IPY_MODEL_3c5d9d399f874f298ccc2fa17418d80d"
          }
        },
        "224b9f8f9a024bbb8a9cc44f1f44a4a7": {
          "model_module": "@jupyter-widgets/controls",
          "model_name": "HTMLModel",
          "model_module_version": "1.5.0",
          "state": {
            "_dom_classes": [],
            "_model_module": "@jupyter-widgets/controls",
            "_model_module_version": "1.5.0",
            "_model_name": "HTMLModel",
            "_view_count": null,
            "_view_module": "@jupyter-widgets/controls",
            "_view_module_version": "1.5.0",
            "_view_name": "HTMLView",
            "description": "",
            "description_tooltip": null,
            "layout": "IPY_MODEL_cab1340d3bdd461e8e5f3ff00b62d199",
            "placeholder": "​",
            "style": "IPY_MODEL_357e681647dc4422b04431e385126413",
            "value": "100%"
          }
        },
        "558cf96e62af47cd8363792109f780eb": {
          "model_module": "@jupyter-widgets/controls",
          "model_name": "FloatProgressModel",
          "model_module_version": "1.5.0",
          "state": {
            "_dom_classes": [],
            "_model_module": "@jupyter-widgets/controls",
            "_model_module_version": "1.5.0",
            "_model_name": "FloatProgressModel",
            "_view_count": null,
            "_view_module": "@jupyter-widgets/controls",
            "_view_module_version": "1.5.0",
            "_view_name": "ProgressView",
            "bar_style": "success",
            "description": "",
            "description_tooltip": null,
            "layout": "IPY_MODEL_656e9570eec04249818d017e6bf66df5",
            "max": 4996278331,
            "min": 0,
            "orientation": "horizontal",
            "style": "IPY_MODEL_a6cb6ae15ca94cd7b49d888dce7036a4",
            "value": 4996278331
          }
        },
        "9613af1d53b14eee9a661cab803dac5f": {
          "model_module": "@jupyter-widgets/controls",
          "model_name": "HTMLModel",
          "model_module_version": "1.5.0",
          "state": {
            "_dom_classes": [],
            "_model_module": "@jupyter-widgets/controls",
            "_model_module_version": "1.5.0",
            "_model_name": "HTMLModel",
            "_view_count": null,
            "_view_module": "@jupyter-widgets/controls",
            "_view_module_version": "1.5.0",
            "_view_name": "HTMLView",
            "description": "",
            "description_tooltip": null,
            "layout": "IPY_MODEL_d757900b2cd44f4294e6a3a9abda9585",
            "placeholder": "​",
            "style": "IPY_MODEL_8d06ba8726c34b20ae497f8ba7ed0567",
            "value": " 4996278331/4996278331 [05:37&lt;00:00, 15156079.96it/s]"
          }
        },
        "3c5d9d399f874f298ccc2fa17418d80d": {
          "model_module": "@jupyter-widgets/base",
          "model_name": "LayoutModel",
          "model_module_version": "1.2.0",
          "state": {
            "_model_module": "@jupyter-widgets/base",
            "_model_module_version": "1.2.0",
            "_model_name": "LayoutModel",
            "_view_count": null,
            "_view_module": "@jupyter-widgets/base",
            "_view_module_version": "1.2.0",
            "_view_name": "LayoutView",
            "align_content": null,
            "align_items": null,
            "align_self": null,
            "border": null,
            "bottom": null,
            "display": null,
            "flex": null,
            "flex_flow": null,
            "grid_area": null,
            "grid_auto_columns": null,
            "grid_auto_flow": null,
            "grid_auto_rows": null,
            "grid_column": null,
            "grid_gap": null,
            "grid_row": null,
            "grid_template_areas": null,
            "grid_template_columns": null,
            "grid_template_rows": null,
            "height": null,
            "justify_content": null,
            "justify_items": null,
            "left": null,
            "margin": null,
            "max_height": null,
            "max_width": null,
            "min_height": null,
            "min_width": null,
            "object_fit": null,
            "object_position": null,
            "order": null,
            "overflow": null,
            "overflow_x": null,
            "overflow_y": null,
            "padding": null,
            "right": null,
            "top": null,
            "visibility": null,
            "width": null
          }
        },
        "cab1340d3bdd461e8e5f3ff00b62d199": {
          "model_module": "@jupyter-widgets/base",
          "model_name": "LayoutModel",
          "model_module_version": "1.2.0",
          "state": {
            "_model_module": "@jupyter-widgets/base",
            "_model_module_version": "1.2.0",
            "_model_name": "LayoutModel",
            "_view_count": null,
            "_view_module": "@jupyter-widgets/base",
            "_view_module_version": "1.2.0",
            "_view_name": "LayoutView",
            "align_content": null,
            "align_items": null,
            "align_self": null,
            "border": null,
            "bottom": null,
            "display": null,
            "flex": null,
            "flex_flow": null,
            "grid_area": null,
            "grid_auto_columns": null,
            "grid_auto_flow": null,
            "grid_auto_rows": null,
            "grid_column": null,
            "grid_gap": null,
            "grid_row": null,
            "grid_template_areas": null,
            "grid_template_columns": null,
            "grid_template_rows": null,
            "height": null,
            "justify_content": null,
            "justify_items": null,
            "left": null,
            "margin": null,
            "max_height": null,
            "max_width": null,
            "min_height": null,
            "min_width": null,
            "object_fit": null,
            "object_position": null,
            "order": null,
            "overflow": null,
            "overflow_x": null,
            "overflow_y": null,
            "padding": null,
            "right": null,
            "top": null,
            "visibility": null,
            "width": null
          }
        },
        "357e681647dc4422b04431e385126413": {
          "model_module": "@jupyter-widgets/controls",
          "model_name": "DescriptionStyleModel",
          "model_module_version": "1.5.0",
          "state": {
            "_model_module": "@jupyter-widgets/controls",
            "_model_module_version": "1.5.0",
            "_model_name": "DescriptionStyleModel",
            "_view_count": null,
            "_view_module": "@jupyter-widgets/base",
            "_view_module_version": "1.2.0",
            "_view_name": "StyleView",
            "description_width": ""
          }
        },
        "656e9570eec04249818d017e6bf66df5": {
          "model_module": "@jupyter-widgets/base",
          "model_name": "LayoutModel",
          "model_module_version": "1.2.0",
          "state": {
            "_model_module": "@jupyter-widgets/base",
            "_model_module_version": "1.2.0",
            "_model_name": "LayoutModel",
            "_view_count": null,
            "_view_module": "@jupyter-widgets/base",
            "_view_module_version": "1.2.0",
            "_view_name": "LayoutView",
            "align_content": null,
            "align_items": null,
            "align_self": null,
            "border": null,
            "bottom": null,
            "display": null,
            "flex": null,
            "flex_flow": null,
            "grid_area": null,
            "grid_auto_columns": null,
            "grid_auto_flow": null,
            "grid_auto_rows": null,
            "grid_column": null,
            "grid_gap": null,
            "grid_row": null,
            "grid_template_areas": null,
            "grid_template_columns": null,
            "grid_template_rows": null,
            "height": null,
            "justify_content": null,
            "justify_items": null,
            "left": null,
            "margin": null,
            "max_height": null,
            "max_width": null,
            "min_height": null,
            "min_width": null,
            "object_fit": null,
            "object_position": null,
            "order": null,
            "overflow": null,
            "overflow_x": null,
            "overflow_y": null,
            "padding": null,
            "right": null,
            "top": null,
            "visibility": null,
            "width": null
          }
        },
        "a6cb6ae15ca94cd7b49d888dce7036a4": {
          "model_module": "@jupyter-widgets/controls",
          "model_name": "ProgressStyleModel",
          "model_module_version": "1.5.0",
          "state": {
            "_model_module": "@jupyter-widgets/controls",
            "_model_module_version": "1.5.0",
            "_model_name": "ProgressStyleModel",
            "_view_count": null,
            "_view_module": "@jupyter-widgets/base",
            "_view_module_version": "1.2.0",
            "_view_name": "StyleView",
            "bar_color": null,
            "description_width": ""
          }
        },
        "d757900b2cd44f4294e6a3a9abda9585": {
          "model_module": "@jupyter-widgets/base",
          "model_name": "LayoutModel",
          "model_module_version": "1.2.0",
          "state": {
            "_model_module": "@jupyter-widgets/base",
            "_model_module_version": "1.2.0",
            "_model_name": "LayoutModel",
            "_view_count": null,
            "_view_module": "@jupyter-widgets/base",
            "_view_module_version": "1.2.0",
            "_view_name": "LayoutView",
            "align_content": null,
            "align_items": null,
            "align_self": null,
            "border": null,
            "bottom": null,
            "display": null,
            "flex": null,
            "flex_flow": null,
            "grid_area": null,
            "grid_auto_columns": null,
            "grid_auto_flow": null,
            "grid_auto_rows": null,
            "grid_column": null,
            "grid_gap": null,
            "grid_row": null,
            "grid_template_areas": null,
            "grid_template_columns": null,
            "grid_template_rows": null,
            "height": null,
            "justify_content": null,
            "justify_items": null,
            "left": null,
            "margin": null,
            "max_height": null,
            "max_width": null,
            "min_height": null,
            "min_width": null,
            "object_fit": null,
            "object_position": null,
            "order": null,
            "overflow": null,
            "overflow_x": null,
            "overflow_y": null,
            "padding": null,
            "right": null,
            "top": null,
            "visibility": null,
            "width": null
          }
        },
        "8d06ba8726c34b20ae497f8ba7ed0567": {
          "model_module": "@jupyter-widgets/controls",
          "model_name": "DescriptionStyleModel",
          "model_module_version": "1.5.0",
          "state": {
            "_model_module": "@jupyter-widgets/controls",
            "_model_module_version": "1.5.0",
            "_model_name": "DescriptionStyleModel",
            "_view_count": null,
            "_view_module": "@jupyter-widgets/base",
            "_view_module_version": "1.2.0",
            "_view_name": "StyleView",
            "description_width": ""
          }
        },
        "7d4b47e4b8dc4758b3f4e306600cb46d": {
          "model_module": "@jupyter-widgets/controls",
          "model_name": "HBoxModel",
          "model_module_version": "1.5.0",
          "state": {
            "_dom_classes": [],
            "_model_module": "@jupyter-widgets/controls",
            "_model_module_version": "1.5.0",
            "_model_name": "HBoxModel",
            "_view_count": null,
            "_view_module": "@jupyter-widgets/controls",
            "_view_module_version": "1.5.0",
            "_view_name": "HBoxView",
            "box_style": "",
            "children": [
              "IPY_MODEL_78936123a2a045bb88c5858dc1b5c517",
              "IPY_MODEL_29e0f8403d2644b89469389edd1f868f",
              "IPY_MODEL_f30cbd22baf14131b5ef51aa04963d0f"
            ],
            "layout": "IPY_MODEL_b10a3811098248019276370297f6261f"
          }
        },
        "78936123a2a045bb88c5858dc1b5c517": {
          "model_module": "@jupyter-widgets/controls",
          "model_name": "HTMLModel",
          "model_module_version": "1.5.0",
          "state": {
            "_dom_classes": [],
            "_model_module": "@jupyter-widgets/controls",
            "_model_module_version": "1.5.0",
            "_model_name": "HTMLModel",
            "_view_count": null,
            "_view_module": "@jupyter-widgets/controls",
            "_view_module_version": "1.5.0",
            "_view_name": "HTMLView",
            "description": "",
            "description_tooltip": null,
            "layout": "IPY_MODEL_9ec6b171e2c64e1ebe508be1087fe42a",
            "placeholder": "​",
            "style": "IPY_MODEL_8e78867bf94d4d6b81f29337d94671ef",
            "value": "100%"
          }
        },
        "29e0f8403d2644b89469389edd1f868f": {
          "model_module": "@jupyter-widgets/controls",
          "model_name": "FloatProgressModel",
          "model_module_version": "1.5.0",
          "state": {
            "_dom_classes": [],
            "_model_module": "@jupyter-widgets/controls",
            "_model_module_version": "1.5.0",
            "_model_name": "FloatProgressModel",
            "_view_count": null,
            "_view_module": "@jupyter-widgets/controls",
            "_view_module_version": "1.5.0",
            "_view_name": "ProgressView",
            "bar_style": "success",
            "description": "",
            "description_tooltip": null,
            "layout": "IPY_MODEL_5f1aabb2db9040719bf8fa3e5868a494",
            "max": 21444401,
            "min": 0,
            "orientation": "horizontal",
            "style": "IPY_MODEL_98136653c5324623977812d24fb3c22f",
            "value": 21444401
          }
        },
        "f30cbd22baf14131b5ef51aa04963d0f": {
          "model_module": "@jupyter-widgets/controls",
          "model_name": "HTMLModel",
          "model_module_version": "1.5.0",
          "state": {
            "_dom_classes": [],
            "_model_module": "@jupyter-widgets/controls",
            "_model_module_version": "1.5.0",
            "_model_name": "HTMLModel",
            "_view_count": null,
            "_view_module": "@jupyter-widgets/controls",
            "_view_module_version": "1.5.0",
            "_view_name": "HTMLView",
            "description": "",
            "description_tooltip": null,
            "layout": "IPY_MODEL_2e710eb70cdd45f58cd8451f4c91f8fb",
            "placeholder": "​",
            "style": "IPY_MODEL_0c7f69e6fc204c1d9b3859648e121404",
            "value": " 20.5M/20.5M [00:00&lt;00:00, 26.4MB/s]"
          }
        },
        "b10a3811098248019276370297f6261f": {
          "model_module": "@jupyter-widgets/base",
          "model_name": "LayoutModel",
          "model_module_version": "1.2.0",
          "state": {
            "_model_module": "@jupyter-widgets/base",
            "_model_module_version": "1.2.0",
            "_model_name": "LayoutModel",
            "_view_count": null,
            "_view_module": "@jupyter-widgets/base",
            "_view_module_version": "1.2.0",
            "_view_name": "LayoutView",
            "align_content": null,
            "align_items": null,
            "align_self": null,
            "border": null,
            "bottom": null,
            "display": null,
            "flex": null,
            "flex_flow": null,
            "grid_area": null,
            "grid_auto_columns": null,
            "grid_auto_flow": null,
            "grid_auto_rows": null,
            "grid_column": null,
            "grid_gap": null,
            "grid_row": null,
            "grid_template_areas": null,
            "grid_template_columns": null,
            "grid_template_rows": null,
            "height": null,
            "justify_content": null,
            "justify_items": null,
            "left": null,
            "margin": null,
            "max_height": null,
            "max_width": null,
            "min_height": null,
            "min_width": null,
            "object_fit": null,
            "object_position": null,
            "order": null,
            "overflow": null,
            "overflow_x": null,
            "overflow_y": null,
            "padding": null,
            "right": null,
            "top": null,
            "visibility": null,
            "width": null
          }
        },
        "9ec6b171e2c64e1ebe508be1087fe42a": {
          "model_module": "@jupyter-widgets/base",
          "model_name": "LayoutModel",
          "model_module_version": "1.2.0",
          "state": {
            "_model_module": "@jupyter-widgets/base",
            "_model_module_version": "1.2.0",
            "_model_name": "LayoutModel",
            "_view_count": null,
            "_view_module": "@jupyter-widgets/base",
            "_view_module_version": "1.2.0",
            "_view_name": "LayoutView",
            "align_content": null,
            "align_items": null,
            "align_self": null,
            "border": null,
            "bottom": null,
            "display": null,
            "flex": null,
            "flex_flow": null,
            "grid_area": null,
            "grid_auto_columns": null,
            "grid_auto_flow": null,
            "grid_auto_rows": null,
            "grid_column": null,
            "grid_gap": null,
            "grid_row": null,
            "grid_template_areas": null,
            "grid_template_columns": null,
            "grid_template_rows": null,
            "height": null,
            "justify_content": null,
            "justify_items": null,
            "left": null,
            "margin": null,
            "max_height": null,
            "max_width": null,
            "min_height": null,
            "min_width": null,
            "object_fit": null,
            "object_position": null,
            "order": null,
            "overflow": null,
            "overflow_x": null,
            "overflow_y": null,
            "padding": null,
            "right": null,
            "top": null,
            "visibility": null,
            "width": null
          }
        },
        "8e78867bf94d4d6b81f29337d94671ef": {
          "model_module": "@jupyter-widgets/controls",
          "model_name": "DescriptionStyleModel",
          "model_module_version": "1.5.0",
          "state": {
            "_model_module": "@jupyter-widgets/controls",
            "_model_module_version": "1.5.0",
            "_model_name": "DescriptionStyleModel",
            "_view_count": null,
            "_view_module": "@jupyter-widgets/base",
            "_view_module_version": "1.2.0",
            "_view_name": "StyleView",
            "description_width": ""
          }
        },
        "5f1aabb2db9040719bf8fa3e5868a494": {
          "model_module": "@jupyter-widgets/base",
          "model_name": "LayoutModel",
          "model_module_version": "1.2.0",
          "state": {
            "_model_module": "@jupyter-widgets/base",
            "_model_module_version": "1.2.0",
            "_model_name": "LayoutModel",
            "_view_count": null,
            "_view_module": "@jupyter-widgets/base",
            "_view_module_version": "1.2.0",
            "_view_name": "LayoutView",
            "align_content": null,
            "align_items": null,
            "align_self": null,
            "border": null,
            "bottom": null,
            "display": null,
            "flex": null,
            "flex_flow": null,
            "grid_area": null,
            "grid_auto_columns": null,
            "grid_auto_flow": null,
            "grid_auto_rows": null,
            "grid_column": null,
            "grid_gap": null,
            "grid_row": null,
            "grid_template_areas": null,
            "grid_template_columns": null,
            "grid_template_rows": null,
            "height": null,
            "justify_content": null,
            "justify_items": null,
            "left": null,
            "margin": null,
            "max_height": null,
            "max_width": null,
            "min_height": null,
            "min_width": null,
            "object_fit": null,
            "object_position": null,
            "order": null,
            "overflow": null,
            "overflow_x": null,
            "overflow_y": null,
            "padding": null,
            "right": null,
            "top": null,
            "visibility": null,
            "width": null
          }
        },
        "98136653c5324623977812d24fb3c22f": {
          "model_module": "@jupyter-widgets/controls",
          "model_name": "ProgressStyleModel",
          "model_module_version": "1.5.0",
          "state": {
            "_model_module": "@jupyter-widgets/controls",
            "_model_module_version": "1.5.0",
            "_model_name": "ProgressStyleModel",
            "_view_count": null,
            "_view_module": "@jupyter-widgets/base",
            "_view_module_version": "1.2.0",
            "_view_name": "StyleView",
            "bar_color": null,
            "description_width": ""
          }
        },
        "2e710eb70cdd45f58cd8451f4c91f8fb": {
          "model_module": "@jupyter-widgets/base",
          "model_name": "LayoutModel",
          "model_module_version": "1.2.0",
          "state": {
            "_model_module": "@jupyter-widgets/base",
            "_model_module_version": "1.2.0",
            "_model_name": "LayoutModel",
            "_view_count": null,
            "_view_module": "@jupyter-widgets/base",
            "_view_module_version": "1.2.0",
            "_view_name": "LayoutView",
            "align_content": null,
            "align_items": null,
            "align_self": null,
            "border": null,
            "bottom": null,
            "display": null,
            "flex": null,
            "flex_flow": null,
            "grid_area": null,
            "grid_auto_columns": null,
            "grid_auto_flow": null,
            "grid_auto_rows": null,
            "grid_column": null,
            "grid_gap": null,
            "grid_row": null,
            "grid_template_areas": null,
            "grid_template_columns": null,
            "grid_template_rows": null,
            "height": null,
            "justify_content": null,
            "justify_items": null,
            "left": null,
            "margin": null,
            "max_height": null,
            "max_width": null,
            "min_height": null,
            "min_width": null,
            "object_fit": null,
            "object_position": null,
            "order": null,
            "overflow": null,
            "overflow_x": null,
            "overflow_y": null,
            "padding": null,
            "right": null,
            "top": null,
            "visibility": null,
            "width": null
          }
        },
        "0c7f69e6fc204c1d9b3859648e121404": {
          "model_module": "@jupyter-widgets/controls",
          "model_name": "DescriptionStyleModel",
          "model_module_version": "1.5.0",
          "state": {
            "_model_module": "@jupyter-widgets/controls",
            "_model_module_version": "1.5.0",
            "_model_name": "DescriptionStyleModel",
            "_view_count": null,
            "_view_module": "@jupyter-widgets/base",
            "_view_module_version": "1.2.0",
            "_view_name": "StyleView",
            "description_width": ""
          }
        },
        "123bceadf30c4368b77cb87ff3ee6aca": {
          "model_module": "@jupyter-widgets/controls",
          "model_name": "HBoxModel",
          "model_module_version": "1.5.0",
          "state": {
            "_dom_classes": [],
            "_model_module": "@jupyter-widgets/controls",
            "_model_module_version": "1.5.0",
            "_model_name": "HBoxModel",
            "_view_count": null,
            "_view_module": "@jupyter-widgets/controls",
            "_view_module_version": "1.5.0",
            "_view_name": "HBoxView",
            "box_style": "",
            "children": [
              "IPY_MODEL_82e21394969b44528394a709f45e3734",
              "IPY_MODEL_075a7a0201994456a136138d02327af7",
              "IPY_MODEL_d66e87e49c2c492dbb48e8bac6d11ba8"
            ],
            "layout": "IPY_MODEL_5aac5f4b786f4c57a8f82fe08a72bcab"
          }
        },
        "82e21394969b44528394a709f45e3734": {
          "model_module": "@jupyter-widgets/controls",
          "model_name": "HTMLModel",
          "model_module_version": "1.5.0",
          "state": {
            "_dom_classes": [],
            "_model_module": "@jupyter-widgets/controls",
            "_model_module_version": "1.5.0",
            "_model_name": "HTMLModel",
            "_view_count": null,
            "_view_module": "@jupyter-widgets/controls",
            "_view_module_version": "1.5.0",
            "_view_name": "HTMLView",
            "description": "",
            "description_tooltip": null,
            "layout": "IPY_MODEL_ebd54b7a878c4155892d2301c5f58123",
            "placeholder": "​",
            "style": "IPY_MODEL_b5eecb1b643040abb2c61ac2a4da42a4",
            "value": " 20%"
          }
        },
        "075a7a0201994456a136138d02327af7": {
          "model_module": "@jupyter-widgets/controls",
          "model_name": "FloatProgressModel",
          "model_module_version": "1.5.0",
          "state": {
            "_dom_classes": [],
            "_model_module": "@jupyter-widgets/controls",
            "_model_module_version": "1.5.0",
            "_model_name": "FloatProgressModel",
            "_view_count": null,
            "_view_module": "@jupyter-widgets/controls",
            "_view_module_version": "1.5.0",
            "_view_name": "ProgressView",
            "bar_style": "",
            "description": "",
            "description_tooltip": null,
            "layout": "IPY_MODEL_1f357dfb6df64deba68e5d9df2491f91",
            "max": 10,
            "min": 0,
            "orientation": "horizontal",
            "style": "IPY_MODEL_fcd52deed69744e99f6e2d73a4063c77",
            "value": 2
          }
        },
        "d66e87e49c2c492dbb48e8bac6d11ba8": {
          "model_module": "@jupyter-widgets/controls",
          "model_name": "HTMLModel",
          "model_module_version": "1.5.0",
          "state": {
            "_dom_classes": [],
            "_model_module": "@jupyter-widgets/controls",
            "_model_module_version": "1.5.0",
            "_model_name": "HTMLModel",
            "_view_count": null,
            "_view_module": "@jupyter-widgets/controls",
            "_view_module_version": "1.5.0",
            "_view_name": "HTMLView",
            "description": "",
            "description_tooltip": null,
            "layout": "IPY_MODEL_55682e53e8c94ba7a6a43206c8e98579",
            "placeholder": "​",
            "style": "IPY_MODEL_59dba48a89654945aef847e452e427aa",
            "value": " 2/10 [36:50&lt;2:26:59, 1102.48s/it]"
          }
        },
        "5aac5f4b786f4c57a8f82fe08a72bcab": {
          "model_module": "@jupyter-widgets/base",
          "model_name": "LayoutModel",
          "model_module_version": "1.2.0",
          "state": {
            "_model_module": "@jupyter-widgets/base",
            "_model_module_version": "1.2.0",
            "_model_name": "LayoutModel",
            "_view_count": null,
            "_view_module": "@jupyter-widgets/base",
            "_view_module_version": "1.2.0",
            "_view_name": "LayoutView",
            "align_content": null,
            "align_items": null,
            "align_self": null,
            "border": null,
            "bottom": null,
            "display": null,
            "flex": null,
            "flex_flow": null,
            "grid_area": null,
            "grid_auto_columns": null,
            "grid_auto_flow": null,
            "grid_auto_rows": null,
            "grid_column": null,
            "grid_gap": null,
            "grid_row": null,
            "grid_template_areas": null,
            "grid_template_columns": null,
            "grid_template_rows": null,
            "height": null,
            "justify_content": null,
            "justify_items": null,
            "left": null,
            "margin": null,
            "max_height": null,
            "max_width": null,
            "min_height": null,
            "min_width": null,
            "object_fit": null,
            "object_position": null,
            "order": null,
            "overflow": null,
            "overflow_x": null,
            "overflow_y": null,
            "padding": null,
            "right": null,
            "top": null,
            "visibility": null,
            "width": null
          }
        },
        "ebd54b7a878c4155892d2301c5f58123": {
          "model_module": "@jupyter-widgets/base",
          "model_name": "LayoutModel",
          "model_module_version": "1.2.0",
          "state": {
            "_model_module": "@jupyter-widgets/base",
            "_model_module_version": "1.2.0",
            "_model_name": "LayoutModel",
            "_view_count": null,
            "_view_module": "@jupyter-widgets/base",
            "_view_module_version": "1.2.0",
            "_view_name": "LayoutView",
            "align_content": null,
            "align_items": null,
            "align_self": null,
            "border": null,
            "bottom": null,
            "display": null,
            "flex": null,
            "flex_flow": null,
            "grid_area": null,
            "grid_auto_columns": null,
            "grid_auto_flow": null,
            "grid_auto_rows": null,
            "grid_column": null,
            "grid_gap": null,
            "grid_row": null,
            "grid_template_areas": null,
            "grid_template_columns": null,
            "grid_template_rows": null,
            "height": null,
            "justify_content": null,
            "justify_items": null,
            "left": null,
            "margin": null,
            "max_height": null,
            "max_width": null,
            "min_height": null,
            "min_width": null,
            "object_fit": null,
            "object_position": null,
            "order": null,
            "overflow": null,
            "overflow_x": null,
            "overflow_y": null,
            "padding": null,
            "right": null,
            "top": null,
            "visibility": null,
            "width": null
          }
        },
        "b5eecb1b643040abb2c61ac2a4da42a4": {
          "model_module": "@jupyter-widgets/controls",
          "model_name": "DescriptionStyleModel",
          "model_module_version": "1.5.0",
          "state": {
            "_model_module": "@jupyter-widgets/controls",
            "_model_module_version": "1.5.0",
            "_model_name": "DescriptionStyleModel",
            "_view_count": null,
            "_view_module": "@jupyter-widgets/base",
            "_view_module_version": "1.2.0",
            "_view_name": "StyleView",
            "description_width": ""
          }
        },
        "1f357dfb6df64deba68e5d9df2491f91": {
          "model_module": "@jupyter-widgets/base",
          "model_name": "LayoutModel",
          "model_module_version": "1.2.0",
          "state": {
            "_model_module": "@jupyter-widgets/base",
            "_model_module_version": "1.2.0",
            "_model_name": "LayoutModel",
            "_view_count": null,
            "_view_module": "@jupyter-widgets/base",
            "_view_module_version": "1.2.0",
            "_view_name": "LayoutView",
            "align_content": null,
            "align_items": null,
            "align_self": null,
            "border": null,
            "bottom": null,
            "display": null,
            "flex": null,
            "flex_flow": null,
            "grid_area": null,
            "grid_auto_columns": null,
            "grid_auto_flow": null,
            "grid_auto_rows": null,
            "grid_column": null,
            "grid_gap": null,
            "grid_row": null,
            "grid_template_areas": null,
            "grid_template_columns": null,
            "grid_template_rows": null,
            "height": null,
            "justify_content": null,
            "justify_items": null,
            "left": null,
            "margin": null,
            "max_height": null,
            "max_width": null,
            "min_height": null,
            "min_width": null,
            "object_fit": null,
            "object_position": null,
            "order": null,
            "overflow": null,
            "overflow_x": null,
            "overflow_y": null,
            "padding": null,
            "right": null,
            "top": null,
            "visibility": null,
            "width": null
          }
        },
        "fcd52deed69744e99f6e2d73a4063c77": {
          "model_module": "@jupyter-widgets/controls",
          "model_name": "ProgressStyleModel",
          "model_module_version": "1.5.0",
          "state": {
            "_model_module": "@jupyter-widgets/controls",
            "_model_module_version": "1.5.0",
            "_model_name": "ProgressStyleModel",
            "_view_count": null,
            "_view_module": "@jupyter-widgets/base",
            "_view_module_version": "1.2.0",
            "_view_name": "StyleView",
            "bar_color": null,
            "description_width": ""
          }
        },
        "55682e53e8c94ba7a6a43206c8e98579": {
          "model_module": "@jupyter-widgets/base",
          "model_name": "LayoutModel",
          "model_module_version": "1.2.0",
          "state": {
            "_model_module": "@jupyter-widgets/base",
            "_model_module_version": "1.2.0",
            "_model_name": "LayoutModel",
            "_view_count": null,
            "_view_module": "@jupyter-widgets/base",
            "_view_module_version": "1.2.0",
            "_view_name": "LayoutView",
            "align_content": null,
            "align_items": null,
            "align_self": null,
            "border": null,
            "bottom": null,
            "display": null,
            "flex": null,
            "flex_flow": null,
            "grid_area": null,
            "grid_auto_columns": null,
            "grid_auto_flow": null,
            "grid_auto_rows": null,
            "grid_column": null,
            "grid_gap": null,
            "grid_row": null,
            "grid_template_areas": null,
            "grid_template_columns": null,
            "grid_template_rows": null,
            "height": null,
            "justify_content": null,
            "justify_items": null,
            "left": null,
            "margin": null,
            "max_height": null,
            "max_width": null,
            "min_height": null,
            "min_width": null,
            "object_fit": null,
            "object_position": null,
            "order": null,
            "overflow": null,
            "overflow_x": null,
            "overflow_y": null,
            "padding": null,
            "right": null,
            "top": null,
            "visibility": null,
            "width": null
          }
        },
        "59dba48a89654945aef847e452e427aa": {
          "model_module": "@jupyter-widgets/controls",
          "model_name": "DescriptionStyleModel",
          "model_module_version": "1.5.0",
          "state": {
            "_model_module": "@jupyter-widgets/controls",
            "_model_module_version": "1.5.0",
            "_model_name": "DescriptionStyleModel",
            "_view_count": null,
            "_view_module": "@jupyter-widgets/base",
            "_view_module_version": "1.2.0",
            "_view_name": "StyleView",
            "description_width": ""
          }
        }
      }
    }
  },
  "cells": [
    {
      "cell_type": "markdown",
      "source": [
        "#0.Imports"
      ],
      "metadata": {
        "id": "8TBcX_3__U4S"
      }
    },
    {
      "cell_type": "code",
      "execution_count": null,
      "metadata": {
        "colab": {
          "base_uri": "https://localhost:8080/"
        },
        "id": "PsTIflx6_Lj4",
        "outputId": "d58600d0-9c2d-47b0-9607-a1b7bf1e9e53"
      },
      "outputs": [
        {
          "output_type": "stream",
          "name": "stdout",
          "text": [
            "[INFO] Couldn't find torchinfo... installing it.\n"
          ]
        }
      ],
      "source": [
        "#all imports\n",
        "import torch \n",
        "from torch import nn\n",
        "\n",
        "import torchvision\n",
        "from torchvision import datasets\n",
        "from torchvision import transforms\n",
        "from torchvision.transforms import ToTensor\n",
        "from torch.utils.data import DataLoader\n",
        "\n",
        "import matplotlib.pyplot as plt\n",
        "from tqdm.auto import tqdm \n",
        "\n",
        "\n",
        "# Try to get torchinfo, install it if it doesn't work\n",
        "try:\n",
        "    from torchinfo import summary\n",
        "except:\n",
        "    print(\"[INFO] Couldn't find torchinfo... installing it.\")\n",
        "    !pip install -q torchinfo\n",
        "    from torchinfo import summary"
      ]
    },
    {
      "cell_type": "code",
      "source": [
        "device = \"cuda\" if torch.cuda.is_available() else \"cpu\"\n",
        "device"
      ],
      "metadata": {
        "colab": {
          "base_uri": "https://localhost:8080/",
          "height": 36
        },
        "id": "ol-Zvgl5FMMv",
        "outputId": "65dd3601-1fb9-486d-9870-9f356f567f35"
      },
      "execution_count": null,
      "outputs": [
        {
          "output_type": "execute_result",
          "data": {
            "text/plain": [
              "'cuda'"
            ],
            "application/vnd.google.colaboratory.intrinsic+json": {
              "type": "string"
            }
          },
          "metadata": {},
          "execution_count": 2
        }
      ]
    },
    {
      "cell_type": "markdown",
      "source": [
        "#1.Preparing fashionMnist dataset"
      ],
      "metadata": {
        "id": "zac8Qkg5_ZlL"
      }
    },
    {
      "cell_type": "code",
      "source": [
        "# get a set of pretrained model weights\n",
        "weights = torchvision.models.EfficientNet_B0_Weights.DEFAULT\n",
        "weights"
      ],
      "metadata": {
        "colab": {
          "base_uri": "https://localhost:8080/"
        },
        "id": "7HYPTsBNhzLv",
        "outputId": "4e13fa44-4850-4b3d-8815-65e0d74fa30d"
      },
      "execution_count": null,
      "outputs": [
        {
          "output_type": "execute_result",
          "data": {
            "text/plain": [
              "EfficientNet_B0_Weights.IMAGENET1K_V1"
            ]
          },
          "metadata": {},
          "execution_count": 3
        }
      ]
    },
    {
      "cell_type": "code",
      "source": [
        "#get the transforms used to create our pretrained weights\n",
        "auto_transforms = weights.transforms()\n",
        "auto_transforms#move cells UP"
      ],
      "metadata": {
        "colab": {
          "base_uri": "https://localhost:8080/"
        },
        "id": "j0dY4Zdlh2zq",
        "outputId": "029c0dbd-4736-41c0-d2e4-7d984cf3b787"
      },
      "execution_count": null,
      "outputs": [
        {
          "output_type": "execute_result",
          "data": {
            "text/plain": [
              "ImageClassification(\n",
              "    crop_size=[224]\n",
              "    resize_size=[256]\n",
              "    mean=[0.485, 0.456, 0.406]\n",
              "    std=[0.229, 0.224, 0.225]\n",
              "    interpolation=InterpolationMode.BICUBIC\n",
              ")"
            ]
          },
          "metadata": {},
          "execution_count": 4
        }
      ]
    },
    {
      "cell_type": "markdown",
      "source": [
        "###1.1 Data download"
      ],
      "metadata": {
        "id": "TeZeaiVm_goy"
      }
    },
    {
      "cell_type": "code",
      "source": [
        "#setup traning data\n",
        "traning_data = datasets.Food101(\n",
        "    root=\"data\",\n",
        "    download=True,\n",
        "    transform=auto_transforms,###model transform here\n",
        "    target_transform=None\n",
        ")\n",
        "\n",
        "#setup test data\n",
        "test_data = datasets.Food101(\n",
        "    root=\"data\",\n",
        "    split=\"test\",\n",
        "    download=True,\n",
        "    transform=auto_transforms,\n",
        "    target_transform=None\n",
        ")"
      ],
      "metadata": {
        "colab": {
          "base_uri": "https://localhost:8080/",
          "height": 84,
          "referenced_widgets": [
            "a74fb88592bc428481a00969cabb19b7",
            "224b9f8f9a024bbb8a9cc44f1f44a4a7",
            "558cf96e62af47cd8363792109f780eb",
            "9613af1d53b14eee9a661cab803dac5f",
            "3c5d9d399f874f298ccc2fa17418d80d",
            "cab1340d3bdd461e8e5f3ff00b62d199",
            "357e681647dc4422b04431e385126413",
            "656e9570eec04249818d017e6bf66df5",
            "a6cb6ae15ca94cd7b49d888dce7036a4",
            "d757900b2cd44f4294e6a3a9abda9585",
            "8d06ba8726c34b20ae497f8ba7ed0567"
          ]
        },
        "id": "EpG5U65m_XqF",
        "outputId": "2585a929-646c-4f16-e721-501ec57e68ef"
      },
      "execution_count": null,
      "outputs": [
        {
          "output_type": "stream",
          "name": "stdout",
          "text": [
            "Downloading https://data.vision.ee.ethz.ch/cvl/food-101.tar.gz to data/food-101.tar.gz\n"
          ]
        },
        {
          "output_type": "display_data",
          "data": {
            "text/plain": [
              "  0%|          | 0/4996278331 [00:00<?, ?it/s]"
            ],
            "application/vnd.jupyter.widget-view+json": {
              "version_major": 2,
              "version_minor": 0,
              "model_id": "a74fb88592bc428481a00969cabb19b7"
            }
          },
          "metadata": {}
        },
        {
          "output_type": "stream",
          "name": "stdout",
          "text": [
            "Extracting data/food-101.tar.gz to data\n"
          ]
        }
      ]
    },
    {
      "cell_type": "code",
      "source": [
        "#lets see all classes\n",
        "class_to_idx = traning_data.class_to_idx\n",
        "class_to_idx"
      ],
      "metadata": {
        "colab": {
          "base_uri": "https://localhost:8080/"
        },
        "id": "LTYWe3VYC-P1",
        "outputId": "accfdf84-f003-4dba-a09a-49ae7e3cce43"
      },
      "execution_count": null,
      "outputs": [
        {
          "output_type": "execute_result",
          "data": {
            "text/plain": [
              "{'apple_pie': 0,\n",
              " 'baby_back_ribs': 1,\n",
              " 'baklava': 2,\n",
              " 'beef_carpaccio': 3,\n",
              " 'beef_tartare': 4,\n",
              " 'beet_salad': 5,\n",
              " 'beignets': 6,\n",
              " 'bibimbap': 7,\n",
              " 'bread_pudding': 8,\n",
              " 'breakfast_burrito': 9,\n",
              " 'bruschetta': 10,\n",
              " 'caesar_salad': 11,\n",
              " 'cannoli': 12,\n",
              " 'caprese_salad': 13,\n",
              " 'carrot_cake': 14,\n",
              " 'ceviche': 15,\n",
              " 'cheese_plate': 16,\n",
              " 'cheesecake': 17,\n",
              " 'chicken_curry': 18,\n",
              " 'chicken_quesadilla': 19,\n",
              " 'chicken_wings': 20,\n",
              " 'chocolate_cake': 21,\n",
              " 'chocolate_mousse': 22,\n",
              " 'churros': 23,\n",
              " 'clam_chowder': 24,\n",
              " 'club_sandwich': 25,\n",
              " 'crab_cakes': 26,\n",
              " 'creme_brulee': 27,\n",
              " 'croque_madame': 28,\n",
              " 'cup_cakes': 29,\n",
              " 'deviled_eggs': 30,\n",
              " 'donuts': 31,\n",
              " 'dumplings': 32,\n",
              " 'edamame': 33,\n",
              " 'eggs_benedict': 34,\n",
              " 'escargots': 35,\n",
              " 'falafel': 36,\n",
              " 'filet_mignon': 37,\n",
              " 'fish_and_chips': 38,\n",
              " 'foie_gras': 39,\n",
              " 'french_fries': 40,\n",
              " 'french_onion_soup': 41,\n",
              " 'french_toast': 42,\n",
              " 'fried_calamari': 43,\n",
              " 'fried_rice': 44,\n",
              " 'frozen_yogurt': 45,\n",
              " 'garlic_bread': 46,\n",
              " 'gnocchi': 47,\n",
              " 'greek_salad': 48,\n",
              " 'grilled_cheese_sandwich': 49,\n",
              " 'grilled_salmon': 50,\n",
              " 'guacamole': 51,\n",
              " 'gyoza': 52,\n",
              " 'hamburger': 53,\n",
              " 'hot_and_sour_soup': 54,\n",
              " 'hot_dog': 55,\n",
              " 'huevos_rancheros': 56,\n",
              " 'hummus': 57,\n",
              " 'ice_cream': 58,\n",
              " 'lasagna': 59,\n",
              " 'lobster_bisque': 60,\n",
              " 'lobster_roll_sandwich': 61,\n",
              " 'macaroni_and_cheese': 62,\n",
              " 'macarons': 63,\n",
              " 'miso_soup': 64,\n",
              " 'mussels': 65,\n",
              " 'nachos': 66,\n",
              " 'omelette': 67,\n",
              " 'onion_rings': 68,\n",
              " 'oysters': 69,\n",
              " 'pad_thai': 70,\n",
              " 'paella': 71,\n",
              " 'pancakes': 72,\n",
              " 'panna_cotta': 73,\n",
              " 'peking_duck': 74,\n",
              " 'pho': 75,\n",
              " 'pizza': 76,\n",
              " 'pork_chop': 77,\n",
              " 'poutine': 78,\n",
              " 'prime_rib': 79,\n",
              " 'pulled_pork_sandwich': 80,\n",
              " 'ramen': 81,\n",
              " 'ravioli': 82,\n",
              " 'red_velvet_cake': 83,\n",
              " 'risotto': 84,\n",
              " 'samosa': 85,\n",
              " 'sashimi': 86,\n",
              " 'scallops': 87,\n",
              " 'seaweed_salad': 88,\n",
              " 'shrimp_and_grits': 89,\n",
              " 'spaghetti_bolognese': 90,\n",
              " 'spaghetti_carbonara': 91,\n",
              " 'spring_rolls': 92,\n",
              " 'steak': 93,\n",
              " 'strawberry_shortcake': 94,\n",
              " 'sushi': 95,\n",
              " 'tacos': 96,\n",
              " 'takoyaki': 97,\n",
              " 'tiramisu': 98,\n",
              " 'tuna_tartare': 99,\n",
              " 'waffles': 100}"
            ]
          },
          "metadata": {},
          "execution_count": 6
        }
      ]
    },
    {
      "cell_type": "code",
      "source": [
        "# Get class names\n",
        "class_names = traning_data.classes\n",
        "class_names"
      ],
      "metadata": {
        "colab": {
          "base_uri": "https://localhost:8080/"
        },
        "id": "8iqK-7M-DpUJ",
        "outputId": "66988d25-776f-4207-f47d-dfd318b94f21"
      },
      "execution_count": null,
      "outputs": [
        {
          "output_type": "execute_result",
          "data": {
            "text/plain": [
              "['apple_pie',\n",
              " 'baby_back_ribs',\n",
              " 'baklava',\n",
              " 'beef_carpaccio',\n",
              " 'beef_tartare',\n",
              " 'beet_salad',\n",
              " 'beignets',\n",
              " 'bibimbap',\n",
              " 'bread_pudding',\n",
              " 'breakfast_burrito',\n",
              " 'bruschetta',\n",
              " 'caesar_salad',\n",
              " 'cannoli',\n",
              " 'caprese_salad',\n",
              " 'carrot_cake',\n",
              " 'ceviche',\n",
              " 'cheese_plate',\n",
              " 'cheesecake',\n",
              " 'chicken_curry',\n",
              " 'chicken_quesadilla',\n",
              " 'chicken_wings',\n",
              " 'chocolate_cake',\n",
              " 'chocolate_mousse',\n",
              " 'churros',\n",
              " 'clam_chowder',\n",
              " 'club_sandwich',\n",
              " 'crab_cakes',\n",
              " 'creme_brulee',\n",
              " 'croque_madame',\n",
              " 'cup_cakes',\n",
              " 'deviled_eggs',\n",
              " 'donuts',\n",
              " 'dumplings',\n",
              " 'edamame',\n",
              " 'eggs_benedict',\n",
              " 'escargots',\n",
              " 'falafel',\n",
              " 'filet_mignon',\n",
              " 'fish_and_chips',\n",
              " 'foie_gras',\n",
              " 'french_fries',\n",
              " 'french_onion_soup',\n",
              " 'french_toast',\n",
              " 'fried_calamari',\n",
              " 'fried_rice',\n",
              " 'frozen_yogurt',\n",
              " 'garlic_bread',\n",
              " 'gnocchi',\n",
              " 'greek_salad',\n",
              " 'grilled_cheese_sandwich',\n",
              " 'grilled_salmon',\n",
              " 'guacamole',\n",
              " 'gyoza',\n",
              " 'hamburger',\n",
              " 'hot_and_sour_soup',\n",
              " 'hot_dog',\n",
              " 'huevos_rancheros',\n",
              " 'hummus',\n",
              " 'ice_cream',\n",
              " 'lasagna',\n",
              " 'lobster_bisque',\n",
              " 'lobster_roll_sandwich',\n",
              " 'macaroni_and_cheese',\n",
              " 'macarons',\n",
              " 'miso_soup',\n",
              " 'mussels',\n",
              " 'nachos',\n",
              " 'omelette',\n",
              " 'onion_rings',\n",
              " 'oysters',\n",
              " 'pad_thai',\n",
              " 'paella',\n",
              " 'pancakes',\n",
              " 'panna_cotta',\n",
              " 'peking_duck',\n",
              " 'pho',\n",
              " 'pizza',\n",
              " 'pork_chop',\n",
              " 'poutine',\n",
              " 'prime_rib',\n",
              " 'pulled_pork_sandwich',\n",
              " 'ramen',\n",
              " 'ravioli',\n",
              " 'red_velvet_cake',\n",
              " 'risotto',\n",
              " 'samosa',\n",
              " 'sashimi',\n",
              " 'scallops',\n",
              " 'seaweed_salad',\n",
              " 'shrimp_and_grits',\n",
              " 'spaghetti_bolognese',\n",
              " 'spaghetti_carbonara',\n",
              " 'spring_rolls',\n",
              " 'steak',\n",
              " 'strawberry_shortcake',\n",
              " 'sushi',\n",
              " 'tacos',\n",
              " 'takoyaki',\n",
              " 'tiramisu',\n",
              " 'tuna_tartare',\n",
              " 'waffles']"
            ]
          },
          "metadata": {},
          "execution_count": 7
        }
      ]
    },
    {
      "cell_type": "markdown",
      "source": [
        "###1.2 Create Datasets and Dataloaders\n"
      ],
      "metadata": {
        "id": "mJA91migBUEE"
      }
    },
    {
      "cell_type": "code",
      "source": [
        "# get a set of pretrained model weights\n",
        "weights = torchvision.models.EfficientNet_B0_Weights.DEFAULT\n",
        "weights"
      ],
      "metadata": {
        "colab": {
          "base_uri": "https://localhost:8080/"
        },
        "id": "S3tLJjP4BZZf",
        "outputId": "363e334d-3810-4920-d7b3-22591715e76b"
      },
      "execution_count": null,
      "outputs": [
        {
          "output_type": "execute_result",
          "data": {
            "text/plain": [
              "EfficientNet_B0_Weights.IMAGENET1K_V1"
            ]
          },
          "metadata": {},
          "execution_count": 8
        }
      ]
    },
    {
      "cell_type": "code",
      "source": [
        "#get the transforms used to create our pretrained weights\n",
        "auto_transforms = weights.transforms()\n",
        "auto_transforms#move cells UP"
      ],
      "metadata": {
        "colab": {
          "base_uri": "https://localhost:8080/"
        },
        "id": "_ZRThYgACi8Q",
        "outputId": "72e2cddc-f18e-4c81-8d90-960b77d8e816"
      },
      "execution_count": null,
      "outputs": [
        {
          "output_type": "execute_result",
          "data": {
            "text/plain": [
              "ImageClassification(\n",
              "    crop_size=[224]\n",
              "    resize_size=[256]\n",
              "    mean=[0.485, 0.456, 0.406]\n",
              "    std=[0.229, 0.224, 0.225]\n",
              "    interpolation=InterpolationMode.BICUBIC\n",
              ")"
            ]
          },
          "metadata": {},
          "execution_count": 9
        }
      ]
    },
    {
      "cell_type": "code",
      "source": [
        "# Get class names\n",
        "class_names = traning_data.classes\n",
        "\n",
        "BATCH_SIZE = 32\n",
        "\n",
        "# Turn images into data loaders\n",
        "train_dataloader = DataLoader(\n",
        "      traning_data,\n",
        "      batch_size=BATCH_SIZE,\n",
        "      shuffle=True,\n",
        "      num_workers=1,\n",
        "      pin_memory=True,\n",
        "  )\n",
        "test_dataloader = DataLoader(\n",
        "      test_data,\n",
        "      batch_size=BATCH_SIZE,\n",
        "      shuffle=False,\n",
        "      num_workers=1,\n",
        "      pin_memory=True,\n",
        ")"
      ],
      "metadata": {
        "id": "djWot1orCjt9"
      },
      "execution_count": null,
      "outputs": []
    },
    {
      "cell_type": "markdown",
      "source": [
        "#2.Defining pretrained model"
      ],
      "metadata": {
        "id": "qcOeO5iQAZQ0"
      }
    },
    {
      "cell_type": "code",
      "source": [
        "# get a set of pretrained model weights\n",
        "eff_net_weights = torchvision.models.EfficientNet_B0_Weights.DEFAULT\n",
        "eff_net_weights"
      ],
      "metadata": {
        "colab": {
          "base_uri": "https://localhost:8080/"
        },
        "id": "xScKa_am_2IP",
        "outputId": "8e8db877-c3af-4631-b0c8-c06233a9aaed"
      },
      "execution_count": null,
      "outputs": [
        {
          "output_type": "execute_result",
          "data": {
            "text/plain": [
              "EfficientNet_B0_Weights.IMAGENET1K_V1"
            ]
          },
          "metadata": {},
          "execution_count": 11
        }
      ]
    },
    {
      "cell_type": "code",
      "source": [
        "#get the transforms used to create our pretrained weights\n",
        "eff_net__transforms = eff_net_weights.transforms()\n",
        "eff_net__transforms"
      ],
      "metadata": {
        "colab": {
          "base_uri": "https://localhost:8080/"
        },
        "id": "D8vvLRl1CXXx",
        "outputId": "f9175bc0-6e64-497a-fd5b-c5aa367b5727"
      },
      "execution_count": null,
      "outputs": [
        {
          "output_type": "execute_result",
          "data": {
            "text/plain": [
              "ImageClassification(\n",
              "    crop_size=[224]\n",
              "    resize_size=[256]\n",
              "    mean=[0.485, 0.456, 0.406]\n",
              "    std=[0.229, 0.224, 0.225]\n",
              "    interpolation=InterpolationMode.BICUBIC\n",
              ")"
            ]
          },
          "metadata": {},
          "execution_count": 12
        }
      ]
    },
    {
      "cell_type": "code",
      "source": [
        "#new method \n",
        "eff_net_weights = torchvision.models.EfficientNet_B0_Weights.DEFAULT\n",
        "eff_net_model = torchvision.models.efficientnet_b0(weights=weights)"
      ],
      "metadata": {
        "colab": {
          "base_uri": "https://localhost:8080/",
          "height": 66,
          "referenced_widgets": [
            "7d4b47e4b8dc4758b3f4e306600cb46d",
            "78936123a2a045bb88c5858dc1b5c517",
            "29e0f8403d2644b89469389edd1f868f",
            "f30cbd22baf14131b5ef51aa04963d0f",
            "b10a3811098248019276370297f6261f",
            "9ec6b171e2c64e1ebe508be1087fe42a",
            "8e78867bf94d4d6b81f29337d94671ef",
            "5f1aabb2db9040719bf8fa3e5868a494",
            "98136653c5324623977812d24fb3c22f",
            "2e710eb70cdd45f58cd8451f4c91f8fb",
            "0c7f69e6fc204c1d9b3859648e121404"
          ]
        },
        "id": "N1L2EEbuEVHO",
        "outputId": "8a9f8d25-b36a-4caf-a976-113118adba53"
      },
      "execution_count": null,
      "outputs": [
        {
          "output_type": "stream",
          "name": "stderr",
          "text": [
            "Downloading: \"https://download.pytorch.org/models/efficientnet_b0_rwightman-3dd342df.pth\" to /root/.cache/torch/hub/checkpoints/efficientnet_b0_rwightman-3dd342df.pth\n"
          ]
        },
        {
          "output_type": "display_data",
          "data": {
            "text/plain": [
              "  0%|          | 0.00/20.5M [00:00<?, ?B/s]"
            ],
            "application/vnd.jupyter.widget-view+json": {
              "version_major": 2,
              "version_minor": 0,
              "model_id": "7d4b47e4b8dc4758b3f4e306600cb46d"
            }
          },
          "metadata": {}
        }
      ]
    },
    {
      "cell_type": "code",
      "source": [
        "#print summary\n",
        "from torchinfo import summary\n",
        "\n",
        "summary(model = eff_net_model, input_size=(1,3,244,244),\n",
        "        col_names=[\"input_size\",\"output_size\",\"num_params\",\"trainable\"],\n",
        "        col_width=20,\n",
        "        row_settings=[\"var_names\"])"
      ],
      "metadata": {
        "colab": {
          "base_uri": "https://localhost:8080/"
        },
        "id": "49DtSNY9EXxS",
        "outputId": "0da99d06-1498-4324-9e19-6b96c21f0ece"
      },
      "execution_count": null,
      "outputs": [
        {
          "output_type": "execute_result",
          "data": {
            "text/plain": [
              "============================================================================================================================================\n",
              "Layer (type (var_name))                                      Input Shape          Output Shape         Param #              Trainable\n",
              "============================================================================================================================================\n",
              "EfficientNet (EfficientNet)                                  [1, 3, 244, 244]     [1, 1000]            --                   True\n",
              "├─Sequential (features)                                      [1, 3, 244, 244]     [1, 1280, 8, 8]      --                   True\n",
              "│    └─Conv2dNormActivation (0)                              [1, 3, 244, 244]     [1, 32, 122, 122]    --                   True\n",
              "│    │    └─Conv2d (0)                                       [1, 3, 244, 244]     [1, 32, 122, 122]    864                  True\n",
              "│    │    └─BatchNorm2d (1)                                  [1, 32, 122, 122]    [1, 32, 122, 122]    64                   True\n",
              "│    │    └─SiLU (2)                                         [1, 32, 122, 122]    [1, 32, 122, 122]    --                   --\n",
              "│    └─Sequential (1)                                        [1, 32, 122, 122]    [1, 16, 122, 122]    --                   True\n",
              "│    │    └─MBConv (0)                                       [1, 32, 122, 122]    [1, 16, 122, 122]    1,448                True\n",
              "│    └─Sequential (2)                                        [1, 16, 122, 122]    [1, 24, 61, 61]      --                   True\n",
              "│    │    └─MBConv (0)                                       [1, 16, 122, 122]    [1, 24, 61, 61]      6,004                True\n",
              "│    │    └─MBConv (1)                                       [1, 24, 61, 61]      [1, 24, 61, 61]      10,710               True\n",
              "│    └─Sequential (3)                                        [1, 24, 61, 61]      [1, 40, 31, 31]      --                   True\n",
              "│    │    └─MBConv (0)                                       [1, 24, 61, 61]      [1, 40, 31, 31]      15,350               True\n",
              "│    │    └─MBConv (1)                                       [1, 40, 31, 31]      [1, 40, 31, 31]      31,290               True\n",
              "│    └─Sequential (4)                                        [1, 40, 31, 31]      [1, 80, 16, 16]      --                   True\n",
              "│    │    └─MBConv (0)                                       [1, 40, 31, 31]      [1, 80, 16, 16]      37,130               True\n",
              "│    │    └─MBConv (1)                                       [1, 80, 16, 16]      [1, 80, 16, 16]      102,900              True\n",
              "│    │    └─MBConv (2)                                       [1, 80, 16, 16]      [1, 80, 16, 16]      102,900              True\n",
              "│    └─Sequential (5)                                        [1, 80, 16, 16]      [1, 112, 16, 16]     --                   True\n",
              "│    │    └─MBConv (0)                                       [1, 80, 16, 16]      [1, 112, 16, 16]     126,004              True\n",
              "│    │    └─MBConv (1)                                       [1, 112, 16, 16]     [1, 112, 16, 16]     208,572              True\n",
              "│    │    └─MBConv (2)                                       [1, 112, 16, 16]     [1, 112, 16, 16]     208,572              True\n",
              "│    └─Sequential (6)                                        [1, 112, 16, 16]     [1, 192, 8, 8]       --                   True\n",
              "│    │    └─MBConv (0)                                       [1, 112, 16, 16]     [1, 192, 8, 8]       262,492              True\n",
              "│    │    └─MBConv (1)                                       [1, 192, 8, 8]       [1, 192, 8, 8]       587,952              True\n",
              "│    │    └─MBConv (2)                                       [1, 192, 8, 8]       [1, 192, 8, 8]       587,952              True\n",
              "│    │    └─MBConv (3)                                       [1, 192, 8, 8]       [1, 192, 8, 8]       587,952              True\n",
              "│    └─Sequential (7)                                        [1, 192, 8, 8]       [1, 320, 8, 8]       --                   True\n",
              "│    │    └─MBConv (0)                                       [1, 192, 8, 8]       [1, 320, 8, 8]       717,232              True\n",
              "│    └─Conv2dNormActivation (8)                              [1, 320, 8, 8]       [1, 1280, 8, 8]      --                   True\n",
              "│    │    └─Conv2d (0)                                       [1, 320, 8, 8]       [1, 1280, 8, 8]      409,600              True\n",
              "│    │    └─BatchNorm2d (1)                                  [1, 1280, 8, 8]      [1, 1280, 8, 8]      2,560                True\n",
              "│    │    └─SiLU (2)                                         [1, 1280, 8, 8]      [1, 1280, 8, 8]      --                   --\n",
              "├─AdaptiveAvgPool2d (avgpool)                                [1, 1280, 8, 8]      [1, 1280, 1, 1]      --                   --\n",
              "├─Sequential (classifier)                                    [1, 1280]            [1, 1000]            --                   True\n",
              "│    └─Dropout (0)                                           [1, 1280]            [1, 1280]            --                   --\n",
              "│    └─Linear (1)                                            [1, 1280]            [1, 1000]            1,281,000            True\n",
              "============================================================================================================================================\n",
              "Total params: 5,288,548\n",
              "Trainable params: 5,288,548\n",
              "Non-trainable params: 0\n",
              "Total mult-adds (M): 490.25\n",
              "============================================================================================================================================\n",
              "Input size (MB): 0.71\n",
              "Forward/backward pass size (MB): 132.26\n",
              "Params size (MB): 21.15\n",
              "Estimated Total Size (MB): 154.12\n",
              "============================================================================================================================================"
            ]
          },
          "metadata": {},
          "execution_count": 14
        }
      ]
    },
    {
      "cell_type": "markdown",
      "source": [
        "### 2.2 Freezing the base model and changing the base layers of a pretrained model and update your own"
      ],
      "metadata": {
        "id": "p498K-F6Ep2D"
      }
    },
    {
      "cell_type": "code",
      "source": [
        "for param in eff_net_model.features.parameters():\n",
        "  param.requires_grad = False"
      ],
      "metadata": {
        "id": "YlfcK0oaEloc"
      },
      "execution_count": null,
      "outputs": []
    },
    {
      "cell_type": "code",
      "source": [
        "summary(model = eff_net_model, input_size=(1,3,244,244),\n",
        "        col_names=[\"input_size\",\"output_size\",\"num_params\",\"trainable\"],\n",
        "        col_width=20,\n",
        "        row_settings=[\"var_names\"])"
      ],
      "metadata": {
        "colab": {
          "base_uri": "https://localhost:8080/"
        },
        "id": "P970ZWEmEyXs",
        "outputId": "5526fb35-998a-446c-8433-bc6a0337c529"
      },
      "execution_count": null,
      "outputs": [
        {
          "output_type": "execute_result",
          "data": {
            "text/plain": [
              "============================================================================================================================================\n",
              "Layer (type (var_name))                                      Input Shape          Output Shape         Param #              Trainable\n",
              "============================================================================================================================================\n",
              "EfficientNet (EfficientNet)                                  [1, 3, 244, 244]     [1, 1000]            --                   Partial\n",
              "├─Sequential (features)                                      [1, 3, 244, 244]     [1, 1280, 8, 8]      --                   False\n",
              "│    └─Conv2dNormActivation (0)                              [1, 3, 244, 244]     [1, 32, 122, 122]    --                   False\n",
              "│    │    └─Conv2d (0)                                       [1, 3, 244, 244]     [1, 32, 122, 122]    (864)                False\n",
              "│    │    └─BatchNorm2d (1)                                  [1, 32, 122, 122]    [1, 32, 122, 122]    (64)                 False\n",
              "│    │    └─SiLU (2)                                         [1, 32, 122, 122]    [1, 32, 122, 122]    --                   --\n",
              "│    └─Sequential (1)                                        [1, 32, 122, 122]    [1, 16, 122, 122]    --                   False\n",
              "│    │    └─MBConv (0)                                       [1, 32, 122, 122]    [1, 16, 122, 122]    (1,448)              False\n",
              "│    └─Sequential (2)                                        [1, 16, 122, 122]    [1, 24, 61, 61]      --                   False\n",
              "│    │    └─MBConv (0)                                       [1, 16, 122, 122]    [1, 24, 61, 61]      (6,004)              False\n",
              "│    │    └─MBConv (1)                                       [1, 24, 61, 61]      [1, 24, 61, 61]      (10,710)             False\n",
              "│    └─Sequential (3)                                        [1, 24, 61, 61]      [1, 40, 31, 31]      --                   False\n",
              "│    │    └─MBConv (0)                                       [1, 24, 61, 61]      [1, 40, 31, 31]      (15,350)             False\n",
              "│    │    └─MBConv (1)                                       [1, 40, 31, 31]      [1, 40, 31, 31]      (31,290)             False\n",
              "│    └─Sequential (4)                                        [1, 40, 31, 31]      [1, 80, 16, 16]      --                   False\n",
              "│    │    └─MBConv (0)                                       [1, 40, 31, 31]      [1, 80, 16, 16]      (37,130)             False\n",
              "│    │    └─MBConv (1)                                       [1, 80, 16, 16]      [1, 80, 16, 16]      (102,900)            False\n",
              "│    │    └─MBConv (2)                                       [1, 80, 16, 16]      [1, 80, 16, 16]      (102,900)            False\n",
              "│    └─Sequential (5)                                        [1, 80, 16, 16]      [1, 112, 16, 16]     --                   False\n",
              "│    │    └─MBConv (0)                                       [1, 80, 16, 16]      [1, 112, 16, 16]     (126,004)            False\n",
              "│    │    └─MBConv (1)                                       [1, 112, 16, 16]     [1, 112, 16, 16]     (208,572)            False\n",
              "│    │    └─MBConv (2)                                       [1, 112, 16, 16]     [1, 112, 16, 16]     (208,572)            False\n",
              "│    └─Sequential (6)                                        [1, 112, 16, 16]     [1, 192, 8, 8]       --                   False\n",
              "│    │    └─MBConv (0)                                       [1, 112, 16, 16]     [1, 192, 8, 8]       (262,492)            False\n",
              "│    │    └─MBConv (1)                                       [1, 192, 8, 8]       [1, 192, 8, 8]       (587,952)            False\n",
              "│    │    └─MBConv (2)                                       [1, 192, 8, 8]       [1, 192, 8, 8]       (587,952)            False\n",
              "│    │    └─MBConv (3)                                       [1, 192, 8, 8]       [1, 192, 8, 8]       (587,952)            False\n",
              "│    └─Sequential (7)                                        [1, 192, 8, 8]       [1, 320, 8, 8]       --                   False\n",
              "│    │    └─MBConv (0)                                       [1, 192, 8, 8]       [1, 320, 8, 8]       (717,232)            False\n",
              "│    └─Conv2dNormActivation (8)                              [1, 320, 8, 8]       [1, 1280, 8, 8]      --                   False\n",
              "│    │    └─Conv2d (0)                                       [1, 320, 8, 8]       [1, 1280, 8, 8]      (409,600)            False\n",
              "│    │    └─BatchNorm2d (1)                                  [1, 1280, 8, 8]      [1, 1280, 8, 8]      (2,560)              False\n",
              "│    │    └─SiLU (2)                                         [1, 1280, 8, 8]      [1, 1280, 8, 8]      --                   --\n",
              "├─AdaptiveAvgPool2d (avgpool)                                [1, 1280, 8, 8]      [1, 1280, 1, 1]      --                   --\n",
              "├─Sequential (classifier)                                    [1, 1280]            [1, 1000]            --                   True\n",
              "│    └─Dropout (0)                                           [1, 1280]            [1, 1280]            --                   --\n",
              "│    └─Linear (1)                                            [1, 1280]            [1, 1000]            1,281,000            True\n",
              "============================================================================================================================================\n",
              "Total params: 5,288,548\n",
              "Trainable params: 1,281,000\n",
              "Non-trainable params: 4,007,548\n",
              "Total mult-adds (M): 490.25\n",
              "============================================================================================================================================\n",
              "Input size (MB): 0.71\n",
              "Forward/backward pass size (MB): 132.26\n",
              "Params size (MB): 21.15\n",
              "Estimated Total Size (MB): 154.12\n",
              "============================================================================================================================================"
            ]
          },
          "metadata": {},
          "execution_count": 16
        }
      ]
    },
    {
      "cell_type": "code",
      "source": [
        "#update the classifier head of our model\n",
        "from torch import nn\n",
        "\n",
        "torch.manual_seed(42)\n",
        "torch.cuda.manual_seed(42)\n",
        "\n",
        "eff_net_model.classifier = nn.Sequential(\n",
        "    nn.Dropout(p=0.2, inplace=True),\n",
        "    nn.Linear(in_features=1280, out_features=len(class_names), bias=True)\n",
        ").to(device)\n",
        "eff_net_model.classifier"
      ],
      "metadata": {
        "colab": {
          "base_uri": "https://localhost:8080/"
        },
        "id": "KwVak0wiE2Gs",
        "outputId": "338f1380-1cda-48aa-b2d0-c4d30c6f9d53"
      },
      "execution_count": null,
      "outputs": [
        {
          "output_type": "execute_result",
          "data": {
            "text/plain": [
              "Sequential(\n",
              "  (0): Dropout(p=0.2, inplace=True)\n",
              "  (1): Linear(in_features=1280, out_features=101, bias=True)\n",
              ")"
            ]
          },
          "metadata": {},
          "execution_count": 17
        }
      ]
    },
    {
      "cell_type": "markdown",
      "source": [
        "#3.Train model"
      ],
      "metadata": {
        "id": "RnV4hRnRFcOm"
      }
    },
    {
      "cell_type": "markdown",
      "source": [
        "###3.1 Train loop"
      ],
      "metadata": {
        "id": "mzEHA_DsFxQ0"
      }
    },
    {
      "cell_type": "code",
      "source": [
        "def train_step(model: torch.nn.Module,\n",
        "               data_loader: torch.utils.data.DataLoader,\n",
        "               loss_fn: torch.nn.Module,\n",
        "               optimizer: torch.optim.Optimizer,\n",
        "               accuracy_fn,\n",
        "               device: torch.device):\n",
        "\n",
        "  train_loss, train_acc = 0, 0\n",
        "\n",
        "  model.train()\n",
        "\n",
        "  for batch, (X,y) in enumerate(data_loader):\n",
        "    model.train()\n",
        "    X,y = X.to(device), y.to(device) #moving data do device\n",
        "\n",
        "    #forwardpass\n",
        "    y_pred = model(X)\n",
        "\n",
        "    #calcuate the loss(per batch)\n",
        "\n",
        "    loss = loss_fn(y_pred,y)\n",
        "    train_loss += loss #accumulate train loss\n",
        "    train_acc += accuracy_fn(y,y_pred.argmax(dim=1)) #from logits to prediction labels\n",
        "\n",
        "\n",
        "\n",
        "    optimizer.zero_grad() # zero grad\n",
        "\n",
        "    loss.backward() #bachprogagation\n",
        "\n",
        "    optimizer.step() #update params\n",
        "\n",
        "  #devide totoal train loss by len of train dataloader\n",
        "\n",
        "  train_loss /= len(data_loader)\n",
        "  train_acc /= len(data_loader)"
      ],
      "metadata": {
        "id": "unUI6vDSFsxw"
      },
      "execution_count": null,
      "outputs": []
    },
    {
      "cell_type": "markdown",
      "source": [
        "###3.2 Test loop"
      ],
      "metadata": {
        "id": "isjJMcGFF0HS"
      }
    },
    {
      "cell_type": "code",
      "source": [
        "def test_step(model: torch.nn.Module,\n",
        "              data_loader: torch.utils.data.DataLoader,\n",
        "              loss_fn: torch.nn.Module,\n",
        "              accuracy_fn,\n",
        "              device: torch.device):\n",
        "  \n",
        "\n",
        "  test_loss, test_acc = 0, 0\n",
        "\n",
        "  model.eval() #move model to evaluation mode\n",
        "\n",
        "  with torch.inference_mode():\n",
        "    for X, y in data_loader:\n",
        "\n",
        "      X, y = X.to(device), y.to(device)#moves data to device\n",
        "\n",
        "      test_pred = model(X) #predicting model outoput/forward pass\n",
        "\n",
        "      #calculating lost and accuracy\n",
        "      test_loss += loss_fn(test_pred,y)\n",
        "\n",
        "      test_acc += accuracy_fn(y,test_pred.argmax(dim=1))\n",
        "    \n",
        "    \n",
        "    test_loss /= len(data_loader)\n",
        "\n",
        "    #calcuate the test acc acerage per batch\n",
        "\n",
        "    test_acc /= len(data_loader)\n",
        "\n",
        "    print(f\"\\nTest loss {test_loss:.2f} | Test acc: {test_acc:.2f}\")"
      ],
      "metadata": {
        "id": "dunE_wY8FvrX"
      },
      "execution_count": null,
      "outputs": []
    },
    {
      "cell_type": "code",
      "source": [
        "# Calculate accuracy between truth labels and predictions\n",
        "def accuracy_fn(y_true, y_pred):\n",
        "    correct = torch.eq(y_true, y_pred).sum().item()\n",
        "    acc = (correct / len(y_pred)) * 100\n",
        "    return acc"
      ],
      "metadata": {
        "id": "2fQCLnl2GBwO"
      },
      "execution_count": null,
      "outputs": []
    },
    {
      "cell_type": "markdown",
      "source": [
        "###3.3 Training model"
      ],
      "metadata": {
        "id": "HDHEU-C9GJm6"
      }
    },
    {
      "cell_type": "code",
      "source": [
        "# defile loss and optimizer\n",
        "loss_fn = nn.CrossEntropyLoss()\n",
        "optimizer = torch.optim.Adam(eff_net_model.parameters(), lr=0.001)"
      ],
      "metadata": {
        "id": "ruKCXYIAFb2y"
      },
      "execution_count": null,
      "outputs": []
    },
    {
      "cell_type": "code",
      "source": [
        "torch.manual_seed(42)\n",
        "torch.cuda.manual_seed(42)"
      ],
      "metadata": {
        "id": "pi_Qf9B0FglQ"
      },
      "execution_count": null,
      "outputs": []
    },
    {
      "cell_type": "code",
      "source": [
        "epochs = 10\n",
        "\n",
        "#optimization and evaluation loop\n",
        "\n",
        "for epoch in tqdm(range(epochs)):\n",
        "  print(f\"Epoch: {epoch}\\n---------\")\n",
        "  train_step(eff_net_model,\n",
        "             train_dataloader,\n",
        "             loss_fn,\n",
        "             optimizer,\n",
        "             accuracy_fn,\n",
        "             device)\n",
        "  test_step(eff_net_model,\n",
        "            test_dataloader,\n",
        "            loss_fn,\n",
        "            accuracy_fn,\n",
        "            device)"
      ],
      "metadata": {
        "colab": {
          "base_uri": "https://localhost:8080/",
          "height": 223,
          "referenced_widgets": [
            "123bceadf30c4368b77cb87ff3ee6aca",
            "82e21394969b44528394a709f45e3734",
            "075a7a0201994456a136138d02327af7",
            "d66e87e49c2c492dbb48e8bac6d11ba8",
            "5aac5f4b786f4c57a8f82fe08a72bcab",
            "ebd54b7a878c4155892d2301c5f58123",
            "b5eecb1b643040abb2c61ac2a4da42a4",
            "1f357dfb6df64deba68e5d9df2491f91",
            "fcd52deed69744e99f6e2d73a4063c77",
            "55682e53e8c94ba7a6a43206c8e98579",
            "59dba48a89654945aef847e452e427aa"
          ]
        },
        "id": "VSrwAKmfFlQg",
        "outputId": "e5dbb875-3dd9-488e-e71a-0d0d0489232f"
      },
      "execution_count": null,
      "outputs": [
        {
          "output_type": "display_data",
          "data": {
            "text/plain": [
              "  0%|          | 0/10 [00:00<?, ?it/s]"
            ],
            "application/vnd.jupyter.widget-view+json": {
              "version_major": 2,
              "version_minor": 0,
              "model_id": "123bceadf30c4368b77cb87ff3ee6aca"
            }
          },
          "metadata": {}
        },
        {
          "output_type": "stream",
          "name": "stdout",
          "text": [
            "Epoch: 0\n",
            "---------\n",
            "\n",
            "Test loss 1.76 | Test acc: 56.48\n",
            "Epoch: 1\n",
            "---------\n",
            "\n",
            "Test loss 1.66 | Test acc: 57.98\n",
            "Epoch: 2\n",
            "---------\n"
          ]
        }
      ]
    },
    {
      "cell_type": "code",
      "source": [],
      "metadata": {
        "id": "kw0d2qvaktBG"
      },
      "execution_count": null,
      "outputs": []
    }
  ]
}